{
  "nbformat": 4,
  "nbformat_minor": 0,
  "metadata": {
    "colab": {
      "provenance": [],
      "authorship_tag": "ABX9TyP/jGGUZ5AylluCJBYfP8TT",
      "include_colab_link": true
    },
    "kernelspec": {
      "name": "python3",
      "display_name": "Python 3"
    },
    "language_info": {
      "name": "python"
    }
  },
  "cells": [
    {
      "cell_type": "markdown",
      "metadata": {
        "id": "view-in-github",
        "colab_type": "text"
      },
      "source": [
        "<a href=\"https://colab.research.google.com/github/Gowtham933/automate-ETL-using-Yaml-/blob/main/ETL.ipynb\" target=\"_parent\"><img src=\"https://colab.research.google.com/assets/colab-badge.svg\" alt=\"Open In Colab\"/></a>"
      ]
    },
    {
      "cell_type": "code",
      "execution_count": 42,
      "metadata": {
        "colab": {
          "base_uri": "https://localhost:8080/"
        },
        "id": "z6BfHWTX5Vi1",
        "outputId": "69959d56-0ca3-43b4-8e53-1f42ecbcf534"
      },
      "outputs": [
        {
          "output_type": "stream",
          "name": "stdout",
          "text": [
            "{'etl': {'extract': {'source_type': 'csv', 'source_file': '/content/file.csv'}, 'transform': {'filter_column': 'age', 'filter_value': 30}, 'load': {'destination_type': 'csv', 'destination_file': '/content/output.csv'}}}\n"
          ]
        }
      ],
      "source": [
        "\n",
        "import yaml\n",
        "\n",
        "# Replace 'config.yaml' with your uploaded filename\n",
        "with open('config.yaml', 'r') as f:\n",
        "    data = yaml.safe_load(f)\n",
        "\n",
        "print(data)"
      ]
    },
    {
      "cell_type": "code",
      "source": [
        "import yaml\n",
        "import pandas as pd # Import pandas\n",
        "\n",
        "# Replace 'config.yaml' with your uploaded filename\n",
        "with open('config.yaml', 'r') as f:\n",
        "    config = yaml.safe_load(f) # Rename 'data' to 'config'\n",
        "\n",
        "print(config)"
      ],
      "metadata": {
        "colab": {
          "base_uri": "https://localhost:8080/"
        },
        "id": "-XUETF3E_-uA",
        "outputId": "539245d2-e678-4ac2-abf8-a835ce0fd356"
      },
      "execution_count": 43,
      "outputs": [
        {
          "output_type": "stream",
          "name": "stdout",
          "text": [
            "{'etl': {'extract': {'source_type': 'csv', 'source_file': '/content/file.csv'}, 'transform': {'filter_column': 'age', 'filter_value': 30}, 'load': {'destination_type': 'csv', 'destination_file': '/content/output.csv'}}}\n"
          ]
        }
      ]
    },
    {
      "cell_type": "code",
      "source": [
        "# Step 1: Extract (Load data from source)\n",
        "def extract(config):\n",
        "    source_type = config['etl']['extract']['source_type']\n",
        "\n",
        "    if source_type == 'csv':\n",
        "        source_file = config['etl']['extract']['source_file']\n",
        "        # Load CSV file into pandas DataFrame\n",
        "        data = pd.read_csv(source_file)\n",
        "        print(f\"Extracted data from {source_file}\")\n",
        "    else:\n",
        "        raise ValueError(\"Unsupported source type\")\n",
        "\n",
        "    return data"
      ],
      "metadata": {
        "id": "pQ11OqTSE2wz"
      },
      "execution_count": 44,
      "outputs": []
    },
    {
      "cell_type": "code",
      "source": [
        "# Step 2: Transform (Apply filtering)\n",
        "def transform(data, config):\n",
        "    filter_column = config['etl']['transform']['filter_column']\n",
        "    filter_value = config['etl']['transform']['filter_value']\n",
        "\n",
        "    # Filter data based on column value\n",
        "    transformed_data = data[data[filter_column] > filter_value]\n",
        "    print(f\"Transformed data (filtered by {filter_column} > {filter_value})\")\n",
        "\n",
        "    return transformed_data"
      ],
      "metadata": {
        "id": "Thhkkm8CE9pj"
      },
      "execution_count": 45,
      "outputs": []
    },
    {
      "cell_type": "code",
      "source": [
        "# Step 3: Load (Save to destination)\n",
        "def load(data, config):\n",
        "    destination_type = config['etl']['load']['destination_type']\n",
        "\n",
        "    if destination_type == 'csv':\n",
        "        destination_file = config['etl']['load']['destination_file']\n",
        "        # Save the transformed data to a new CSV file\n",
        "        data.to_csv(destination_file, index=False)\n",
        "        print(f\"Loaded transformed data to {destination_file}\")\n",
        "    else:\n",
        "        raise ValueError(\"Unsupported destination type\")"
      ],
      "metadata": {
        "id": "6xHAhR-LE_lV"
      },
      "execution_count": 46,
      "outputs": []
    },
    {
      "cell_type": "code",
      "source": [
        "# Main ETL process\n",
        "def run_etl(config):\n",
        "    # Extract\n",
        "    data = extract(config)\n",
        "\n",
        "    # Transform\n",
        "    transformed_data = transform(data, config)\n",
        "\n",
        "    # Load\n",
        "    load(transformed_data, config)\n",
        "\n",
        "# Run ETL process\n",
        "run_etl(config)"
      ],
      "metadata": {
        "colab": {
          "base_uri": "https://localhost:8080/"
        },
        "id": "ccIN8RMAFC0T",
        "outputId": "2d61e524-021b-4b8e-9eec-5f770aacdbca"
      },
      "execution_count": 47,
      "outputs": [
        {
          "output_type": "stream",
          "name": "stdout",
          "text": [
            "Extracted data from /content/file.csv\n",
            "Transformed data (filtered by age > 30)\n",
            "Loaded transformed data to /content/output.csv\n"
          ]
        }
      ]
    }
  ]
}